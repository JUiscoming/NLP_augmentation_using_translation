{
 "metadata": {
  "language_info": {
   "codemirror_mode": {
    "name": "ipython",
    "version": 3
   },
   "file_extension": ".py",
   "mimetype": "text/x-python",
   "name": "python",
   "nbconvert_exporter": "python",
   "pygments_lexer": "ipython3",
   "version": "3.7.7"
  },
  "orig_nbformat": 2,
  "kernelspec": {
   "name": "python377jvsc74a57bd098b0a9b7b4eaaa670588a142fd0a9b87eaafe866f1db4228be72b4211d12040f",
   "display_name": "Python 3.7.7 64-bit ('base': conda)"
  },
  "metadata": {
   "interpreter": {
    "hash": "98b0a9b7b4eaaa670588a142fd0a9b87eaafe866f1db4228be72b4211d12040f"
   }
  }
 },
 "nbformat": 4,
 "nbformat_minor": 2,
 "cells": [
  {
   "source": [
    "## 0. Preliminary"
   ],
   "cell_type": "markdown",
   "metadata": {}
  },
  {
   "cell_type": "code",
   "execution_count": 14,
   "metadata": {},
   "outputs": [],
   "source": [
    "import pickle\n",
    "import os\n",
    "import pandas as pd\n",
    "import sys\n",
    "import urllib.request\n",
    "import requests"
   ]
  },
  {
   "source": [
    "### Augmentation Functions\n",
    "- augment: Input(text) is translated into the target languages(tgt_lang), and finally into the source language. Translation module is needed.\n",
    "- augment_combination: Augment is performed with given target language combinations."
   ],
   "cell_type": "markdown",
   "metadata": {}
  },
  {
   "cell_type": "code",
   "execution_count": 7,
   "metadata": {},
   "outputs": [],
   "source": [
    "def augment(text: str, src_lang: str, tgt_lang: (list or str), module) -> str:\n",
    "    if type(tgt_lang) == str:\n",
    "        tgt_lang = [tgt_lang]\n",
    "    \n",
    "    for i in range(len(tgt_lang)):\n",
    "        if i == 0:\n",
    "            mid_text = module(text, src_lang, tgt_lang[0])\n",
    "        else:\n",
    "            mid_text = module(mid_text, tgt_lang[i-1], tgt_lang[i])\n",
    "    aug_text = module(mid_text, tgt_lang[-1], src_lang)\n",
    "    return aug_text\n",
    "\n",
    "def augment_combination(text: str, src_lang: str, tgt_lang_comb: list, module) -> list:\n",
    "    return [augment(text, src_lang, tgt_lang, module) for tgt_lang in tgt_lang_comb]"
   ]
  },
  {
   "source": [
    "## 1. PORORO: Platform Of neuRal mOdels for natuRal language prOcessing\n",
    "- A Deep Learning based Multilingual Natural Language Processing Library\n",
    "- github: https://github.com/kakaobrain/pororo\n",
    "- Language ID: korean='ko', english='en', japanese='ja', chinese='zh'"
   ],
   "cell_type": "markdown",
   "metadata": {}
  },
  {
   "cell_type": "code",
   "execution_count": 4,
   "metadata": {},
   "outputs": [
    {
     "output_type": "stream",
     "name": "stdout",
     "text": [
      "\n",
      "\n",
      "\n",
      "g++ is already the newest version (4:7.4.0-1ubuntu2.3).\n",
      "0 upgraded, 0 newly installed, 0 to remove and 35 not upgraded.\n",
      "Requirement already satisfied: pororo in /opt/conda/lib/python3.7/site-packages (0.4.2)\n",
      "Requirement already satisfied: word2word in /opt/conda/lib/python3.7/site-packages (from pororo) (1.0.0)\n",
      "Requirement already satisfied: marisa-trie in /opt/conda/lib/python3.7/site-packages (from pororo) (0.7.5)\n",
      "Requirement already satisfied: torch==1.6.0 in /opt/conda/lib/python3.7/site-packages (from pororo) (1.6.0)\n",
      "Requirement already satisfied: pillow>=4.1.1 in /opt/conda/lib/python3.7/site-packages (from pororo) (7.2.0)\n",
      "Requirement already satisfied: kss in /opt/conda/lib/python3.7/site-packages (from pororo) (2.5.0)\n",
      "Requirement already satisfied: torchvision==0.7.0 in /opt/conda/lib/python3.7/site-packages (from pororo) (0.7.0)\n",
      "Requirement already satisfied: lxml in /opt/conda/lib/python3.7/site-packages (from pororo) (4.6.3)\n",
      "Requirement already satisfied: sentence-transformers>=0.4.1.2 in /opt/conda/lib/python3.7/site-packages (from pororo) (1.0.4)\n",
      "Requirement already satisfied: g2p-en in /opt/conda/lib/python3.7/site-packages (from pororo) (2.1.0)\n",
      "Requirement already satisfied: fairseq>=0.10.2 in /opt/conda/lib/python3.7/site-packages (from pororo) (0.10.2)\n",
      "Requirement already satisfied: whoosh in /opt/conda/lib/python3.7/site-packages (from pororo) (2.7.4)\n",
      "Requirement already satisfied: joblib in /opt/conda/lib/python3.7/site-packages (from pororo) (1.0.1)\n",
      "Requirement already satisfied: transformers>=4.0.0 in /opt/conda/lib/python3.7/site-packages (from pororo) (4.2.0)\n",
      "Requirement already satisfied: wget in /opt/conda/lib/python3.7/site-packages (from pororo) (3.2)\n",
      "Requirement already satisfied: nltk>=3.5 in /opt/conda/lib/python3.7/site-packages (from pororo) (3.6.1)\n",
      "Requirement already satisfied: tqdm in /opt/conda/lib/python3.7/site-packages (from word2word->pororo) (4.46.0)\n",
      "Requirement already satisfied: requests in /opt/conda/lib/python3.7/site-packages (from word2word->pororo) (2.23.0)\n",
      "Requirement already satisfied: numpy in /opt/conda/lib/python3.7/site-packages (from word2word->pororo) (1.18.5)\n",
      "Requirement already satisfied: future in /opt/conda/lib/python3.7/site-packages (from torch==1.6.0->pororo) (0.18.2)\n",
      "Requirement already satisfied: scipy in /opt/conda/lib/python3.7/site-packages (from sentence-transformers>=0.4.1.2->pororo) (1.6.2)\n",
      "Requirement already satisfied: sentencepiece in /opt/conda/lib/python3.7/site-packages (from sentence-transformers>=0.4.1.2->pororo) (0.1.95)\n",
      "Requirement already satisfied: scikit-learn in /opt/conda/lib/python3.7/site-packages (from sentence-transformers>=0.4.1.2->pororo) (0.24.1)\n",
      "Requirement already satisfied: inflect>=0.3.1 in /opt/conda/lib/python3.7/site-packages (from g2p-en->pororo) (5.3.0)\n",
      "Requirement already satisfied: distance>=0.1.3 in /opt/conda/lib/python3.7/site-packages (from g2p-en->pororo) (0.1.3)\n",
      "Requirement already satisfied: regex in /opt/conda/lib/python3.7/site-packages (from fairseq>=0.10.2->pororo) (2021.4.4)\n",
      "Requirement already satisfied: dataclasses in /opt/conda/lib/python3.7/site-packages (from fairseq>=0.10.2->pororo) (0.6)\n",
      "Requirement already satisfied: cffi in /opt/conda/lib/python3.7/site-packages (from fairseq>=0.10.2->pororo) (1.14.0)\n",
      "Requirement already satisfied: sacrebleu>=1.4.12 in /opt/conda/lib/python3.7/site-packages (from fairseq>=0.10.2->pororo) (1.5.1)\n",
      "Requirement already satisfied: hydra-core in /opt/conda/lib/python3.7/site-packages (from fairseq>=0.10.2->pororo) (1.0.6)\n",
      "Requirement already satisfied: cython in /opt/conda/lib/python3.7/site-packages (from fairseq>=0.10.2->pororo) (0.29.23)\n",
      "Requirement already satisfied: importlib-metadata; python_version < \"3.8\" in /opt/conda/lib/python3.7/site-packages (from transformers>=4.0.0->pororo) (3.10.0)\n",
      "Requirement already satisfied: sacremoses in /opt/conda/lib/python3.7/site-packages (from transformers>=4.0.0->pororo) (0.0.44)\n",
      "Requirement already satisfied: filelock in /opt/conda/lib/python3.7/site-packages (from transformers>=4.0.0->pororo) (3.0.12)\n",
      "Requirement already satisfied: tokenizers==0.9.4 in /opt/conda/lib/python3.7/site-packages (from transformers>=4.0.0->pororo) (0.9.4)\n",
      "Requirement already satisfied: packaging in /opt/conda/lib/python3.7/site-packages (from transformers>=4.0.0->pororo) (20.9)\n",
      "Requirement already satisfied: click in /opt/conda/lib/python3.7/site-packages (from nltk>=3.5->pororo) (7.1.2)\n",
      "Requirement already satisfied: urllib3!=1.25.0,!=1.25.1,<1.26,>=1.21.1 in /opt/conda/lib/python3.7/site-packages (from requests->word2word->pororo) (1.25.8)\n",
      "Requirement already satisfied: certifi>=2017.4.17 in /opt/conda/lib/python3.7/site-packages (from requests->word2word->pororo) (2020.6.20)\n",
      "Requirement already satisfied: chardet<4,>=3.0.2 in /opt/conda/lib/python3.7/site-packages (from requests->word2word->pororo) (3.0.4)\n",
      "Requirement already satisfied: idna<3,>=2.5 in /opt/conda/lib/python3.7/site-packages (from requests->word2word->pororo) (2.9)\n",
      "Requirement already satisfied: threadpoolctl>=2.0.0 in /opt/conda/lib/python3.7/site-packages (from scikit-learn->sentence-transformers>=0.4.1.2->pororo) (2.1.0)\n",
      "Requirement already satisfied: pycparser in /opt/conda/lib/python3.7/site-packages (from cffi->fairseq>=0.10.2->pororo) (2.20)\n",
      "Requirement already satisfied: portalocker==2.0.0 in /opt/conda/lib/python3.7/site-packages (from sacrebleu>=1.4.12->fairseq>=0.10.2->pororo) (2.0.0)\n",
      "Requirement already satisfied: antlr4-python3-runtime==4.8 in /opt/conda/lib/python3.7/site-packages (from hydra-core->fairseq>=0.10.2->pororo) (4.8)\n",
      "Requirement already satisfied: omegaconf<2.1,>=2.0.5 in /opt/conda/lib/python3.7/site-packages (from hydra-core->fairseq>=0.10.2->pororo) (2.0.6)\n",
      "Requirement already satisfied: importlib-resources; python_version < \"3.9\" in /opt/conda/lib/python3.7/site-packages (from hydra-core->fairseq>=0.10.2->pororo) (5.1.2)\n",
      "Requirement already satisfied: zipp>=0.5 in /opt/conda/lib/python3.7/site-packages (from importlib-metadata; python_version < \"3.8\"->transformers>=4.0.0->pororo) (3.4.1)\n",
      "Requirement already satisfied: typing-extensions>=3.6.4; python_version < \"3.8\" in /opt/conda/lib/python3.7/site-packages (from importlib-metadata; python_version < \"3.8\"->transformers>=4.0.0->pororo) (3.7.4.3)\n",
      "Requirement already satisfied: six in /opt/conda/lib/python3.7/site-packages (from sacremoses->transformers>=4.0.0->pororo) (1.14.0)\n",
      "Requirement already satisfied: pyparsing>=2.0.2 in /opt/conda/lib/python3.7/site-packages (from packaging->transformers>=4.0.0->pororo) (2.4.7)\n",
      "Requirement already satisfied: PyYAML>=5.1.* in /opt/conda/lib/python3.7/site-packages (from omegaconf<2.1,>=2.0.5->hydra-core->fairseq>=0.10.2->pororo) (5.3.1)\n"
     ]
    }
   ],
   "source": [
    "!apt-get install -y g++\n",
    "!pip install pororo\n",
    "\n",
    "from pororo import Pororo\n",
    "trans = Pororo(task='mt', lang='multi')"
   ]
  },
  {
   "source": [
    "### Examples"
   ],
   "cell_type": "markdown",
   "metadata": {}
  },
  {
   "cell_type": "code",
   "execution_count": 9,
   "metadata": {},
   "outputs": [
    {
     "output_type": "execute_result",
     "data": {
      "text/plain": [
       "['The rainbow is to divide white in many beautiful colors.',\n",
       " 'The rainbow has a white light in color.',\n",
       " 'Rainbow is a lot of beautiful colors in white light.',\n",
       " 'Rainbow has turned white light into a lot of beautiful colors']"
      ]
     },
     "metadata": {},
     "execution_count": 9
    }
   ],
   "source": [
    "augment_combination('The rainbow is a division of white light into many beautiful colours.', 'en', [['ko'], ['ja'], ['zh'], ['zh', 'ja']], trans)"
   ]
  },
  {
   "source": [
    "## 2. PAPAGO: the neural machine translator served to Naver (https://papago.naver.com/).\n",
    "- If you want to use this, you need to get a translation API at Naver Developers (https://developers.naver.com/docs/papago/papago-nmt-overview.md) and fill the client_id and client_secret in the below code.\n",
    "- Free API is limited to 10,000 characters per day.\n",
    "- Language ID: korean='ko', english='en', japanese='ja', chinese='zh-CN' (https://developers.naver.com/docs/papago/papago-nmt-api-reference.md)"
   ],
   "cell_type": "markdown",
   "metadata": {}
  },
  {
   "cell_type": "code",
   "execution_count": 12,
   "metadata": {},
   "outputs": [],
   "source": [
    "def trans(text, src_lang, tgt_lang):\n",
    "    client_id = \"YOUR_CLIENT_ID\" # <-- client_id \n",
    "    client_secret = \"YOUR_CLIENT_SECRET\" # <-- client_secret\n",
    "\n",
    "    data = {'text' : text,\n",
    "            'source' : src_lang,\n",
    "            'target': tgt_lang}\n",
    "\n",
    "    url = \"https://openapi.naver.com/v1/papago/n2mt\"\n",
    "\n",
    "    header = {\"X-Naver-Client-Id\":client_id,\n",
    "              \"X-Naver-Client-Secret\":client_secret}\n",
    "\n",
    "    response = requests.post(url, headers=header, data=data)\n",
    "    rescode = response.status_code\n",
    "\n",
    "    if(rescode==200):\n",
    "        send_data = response.json()\n",
    "        trans_data = (send_data['message']['result']['translatedText'])\n",
    "        return trans_data\n",
    "    else:\n",
    "        print(\"Error Code:\" , rescode)"
   ]
  },
  {
   "source": [
    "### Examples"
   ],
   "cell_type": "markdown",
   "metadata": {}
  },
  {
   "cell_type": "code",
   "execution_count": 15,
   "metadata": {},
   "outputs": [
    {
     "output_type": "execute_result",
     "data": {
      "text/plain": [
       "['A rainbow is a white color divided into many beautiful colors.',\n",
       " 'A rainbow is a division of white light into many beautiful colors.',\n",
       " 'A rainbow divides white light into many beautiful colors.',\n",
       " 'The rainbow divided the white light into many beautiful colors.']"
      ]
     },
     "metadata": {},
     "execution_count": 15
    }
   ],
   "source": [
    "augment_combination('The rainbow is a division of white light into many beautiful colours.', 'en', [['ko'], ['ja'], ['zh-CN'], ['zh-CN', 'ja']], trans)"
   ]
  },
  {
   "source": [
    "## 3. Google Cloud Translate\n",
    "- If you want to use this, you need to get a translation API at Google Cloud Platform (https://cloud.google.com/translate) and fill the GOOGLE_APPLICATION_CREDENTIALS in the below code.\n",
    "- Language ID: english='en', japan='ja', chinese='zh_CN', finnish='fi', svenska='sv', welsh='cy' (https://cloud.google.com/translate/docs/languages)"
   ],
   "cell_type": "markdown",
   "metadata": {}
  },
  {
   "cell_type": "code",
   "execution_count": null,
   "metadata": {},
   "outputs": [],
   "source": [
    "!pip install --upgrade google-cloud-translate\n",
    "os.environ['GOOGLE_APPLICATION_CREDENTIALS'] = \"YOUR_JSON_PATH\"\n",
    "from google.cloud import translate_v2 as tr\n",
    "\n",
    "client = tr.Client()"
   ]
  },
  {
   "source": [
    "### Examples"
   ],
   "cell_type": "markdown",
   "metadata": {}
  },
  {
   "cell_type": "code",
   "execution_count": null,
   "metadata": {},
   "outputs": [],
   "source": [
    "augment_combination('The rainbow is a division of white light into many beautiful colours.', 'en', [['ko'], ['ja'], ['zh-CN'], ['zh-CN', 'ja']], client.translate)"
   ]
  }
 ]
}